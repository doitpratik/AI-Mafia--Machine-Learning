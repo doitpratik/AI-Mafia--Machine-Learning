{
 "cells": [
  {
   "cell_type": "code",
   "execution_count": 4,
   "metadata": {},
   "outputs": [
    {
     "name": "stdout",
     "output_type": "stream",
     "text": [
      "········\n"
     ]
    }
   ],
   "source": [
    "import smtplib\n",
    "import getpass\n",
    "from email.mime.text import MIMEText\n",
    "def send_email():\n",
    "    sender_mail='pratikgholap283@gmail.com'\n",
    "    password=getpass.getpass()\n",
    "    subject='LEARN.INSPIRE.GROW'\n",
    "    msg='''Hello Everyone!\n",
    "            We are pleased to announce that, We are going to start\n",
    "            a new batch of AI MAFIA, Hope you will join!\n",
    "            Thank You !\n",
    "            xyz'''\n",
    "    # Server Initialization\n",
    "    server= smtplib.SMTP('smtp.gmail.com',587)\n",
    "    server.starttls()\n",
    "    server.login(sender_mail, password)\n",
    "    #drafting my messsage body\n",
    "    msg=MIMEText(msg)\n",
    "    msg['Subject']=subject\n",
    "    msg['From']=sender_mail\n",
    "    msg['To']='pratikgholap283@gmail.com'\n",
    "    recipents='pratikgholap283@gmail.com'\n",
    "    msg.set_param('importance','high value')\n",
    "    server.sendmail(sender_mail, recipents,msg.as_string())\n",
    "\n",
    "send_email()\n"
   ]
  }
 ],
 "metadata": {
  "kernelspec": {
   "display_name": "Python 3",
   "language": "python",
   "name": "python3"
  }
 },
 "nbformat": 4,
 "nbformat_minor": 4
}
